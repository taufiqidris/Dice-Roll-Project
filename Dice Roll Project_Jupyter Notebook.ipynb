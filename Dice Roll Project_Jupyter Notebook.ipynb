{
 "cells": [
  {
   "cell_type": "code",
   "execution_count": null,
   "id": "2e51c8e6",
   "metadata": {},
   "outputs": [
    {
     "data": {
      "text/html": [
       "\n",
       "            <div style=\"display:flex; gap:20px; align-items:center;\">\n",
       "                <img src=\"C:/Users/taufi/Downloads/inverted-dice-6.png\" width=\"100\">\n",
       "                <img src=\"C:/Users/taufi/Downloads/inverted-dice-1.png\" width=\"100\">\n",
       "            </div>\n",
       "        "
      ],
      "text/plain": [
       "<IPython.core.display.HTML object>"
      ]
     },
     "metadata": {},
     "output_type": "display_data"
    },
    {
     "name": "stdout",
     "output_type": "stream",
     "text": [
      "6 , 1\n"
     ]
    },
    {
     "data": {
      "text/html": [
       "\n",
       "            <div style=\"display:flex; gap:20px; align-items:center;\">\n",
       "                <img src=\"C:/Users/taufi/Downloads/inverted-dice-4.png\" width=\"100\">\n",
       "                <img src=\"C:/Users/taufi/Downloads/inverted-dice-2.png\" width=\"100\">\n",
       "            </div>\n",
       "        "
      ],
      "text/plain": [
       "<IPython.core.display.HTML object>"
      ]
     },
     "metadata": {},
     "output_type": "display_data"
    },
    {
     "name": "stdout",
     "output_type": "stream",
     "text": [
      "4 , 2\n",
      "Please input Y or N\n",
      "Please input Y or N\n",
      "Please input Y or N\n"
     ]
    },
    {
     "data": {
      "text/html": [
       "\n",
       "            <div style=\"display:flex; gap:20px; align-items:center;\">\n",
       "                <img src=\"C:/Users/taufi/Downloads/inverted-dice-4.png\" width=\"100\">\n",
       "                <img src=\"C:/Users/taufi/Downloads/inverted-dice-6.png\" width=\"100\">\n",
       "            </div>\n",
       "        "
      ],
      "text/plain": [
       "<IPython.core.display.HTML object>"
      ]
     },
     "metadata": {},
     "output_type": "display_data"
    },
    {
     "name": "stdout",
     "output_type": "stream",
     "text": [
      "4 , 6\n"
     ]
    },
    {
     "data": {
      "text/html": [
       "\n",
       "            <div style=\"display:flex; gap:20px; align-items:center;\">\n",
       "                <img src=\"C:/Users/taufi/Downloads/inverted-dice-5.png\" width=\"100\">\n",
       "                <img src=\"C:/Users/taufi/Downloads/inverted-dice-6.png\" width=\"100\">\n",
       "            </div>\n",
       "        "
      ],
      "text/plain": [
       "<IPython.core.display.HTML object>"
      ]
     },
     "metadata": {},
     "output_type": "display_data"
    },
    {
     "name": "stdout",
     "output_type": "stream",
     "text": [
      "5 , 6\n"
     ]
    },
    {
     "data": {
      "text/html": [
       "\n",
       "            <div style=\"display:flex; gap:20px; align-items:center;\">\n",
       "                <img src=\"C:/Users/taufi/Downloads/inverted-dice-5.png\" width=\"100\">\n",
       "                <img src=\"C:/Users/taufi/Downloads/inverted-dice-1.png\" width=\"100\">\n",
       "            </div>\n",
       "        "
      ],
      "text/plain": [
       "<IPython.core.display.HTML object>"
      ]
     },
     "metadata": {},
     "output_type": "display_data"
    },
    {
     "name": "stdout",
     "output_type": "stream",
     "text": [
      "5 , 1\n",
      "Thanks for playing!\n",
      "Thanks for playing!\n"
     ]
    }
   ],
   "source": [
    "import random\n",
    "from IPython.display import display, Image\n",
    "from IPython.display import HTML\n",
    "\n",
    "faces = {\n",
    "    1: \"C:/Users/taufi/Downloads/inverted-dice-1.png\",\n",
    "    2: \"C:/Users/taufi/Downloads/inverted-dice-2.png\",\n",
    "    3: \"C:/Users/taufi/Downloads/inverted-dice-3.png\",\n",
    "    4: \"C:/Users/taufi/Downloads/inverted-dice-4.png\",\n",
    "    5: \"C:/Users/taufi/Downloads/inverted-dice-5.png\",\n",
    "    6: \"C:/Users/taufi/Downloads/inverted-dice-6.png\"\n",
    "}\n",
    "\n",
    "while True: \n",
    "    choice = input(\"Roll the dice? (Y/N):\")\n",
    "    if choice.lower() == \"y\":   \n",
    "        die1 = random.randint(1, 6)\n",
    "        die2 = random.randint(1, 6)\n",
    "\n",
    "        display(HTML(f\"\"\"\n",
    "            <div style=\"display:flex; gap:20px; align-items:center;\">\n",
    "                <img src=\"{faces[die1]}\" width=\"100\">\n",
    "                <img src=\"{faces[die2]}\" width=\"100\">\n",
    "            </div>\n",
    "        \"\"\"))\n",
    "        print(die1,\",\",die2)\n",
    "    elif choice.lower() == \"n\":\n",
    "        print(\"Thanks for playing!\"\n",
    "        break\n",
    "    else:\n",
    "        print(\"Please input Y or N\")\n",
    "\n",
    "    \n"
   ]
  }
 ],
 "metadata": {
  "kernelspec": {
   "display_name": "base",
   "language": "python",
   "name": "python3"
  },
  "language_info": {
   "codemirror_mode": {
    "name": "ipython",
    "version": 3
   },
   "file_extension": ".py",
   "mimetype": "text/x-python",
   "name": "python",
   "nbconvert_exporter": "python",
   "pygments_lexer": "ipython3",
   "version": "3.13.5"
  }
 },
 "nbformat": 4,
 "nbformat_minor": 5
}
